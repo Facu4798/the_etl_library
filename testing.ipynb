{
 "cells": [
  {
   "cell_type": "code",
   "execution_count": 1,
   "id": "a009e8c6",
   "metadata": {},
   "outputs": [],
   "source": [
    "\n",
    "creds_dict = {\n",
    "    #place credentials here\n",
    "}"
   ]
  },
  {
   "cell_type": "code",
   "execution_count": 2,
   "id": "3aec2d13",
   "metadata": {},
   "outputs": [],
   "source": [
    "from authentication import Credentials\n",
    "\n",
    "creds = Credentials(creds_dict)"
   ]
  },
  {
   "cell_type": "code",
   "execution_count": 6,
   "id": "86dff7ad",
   "metadata": {},
   "outputs": [
    {
     "ename": "AttributeError",
     "evalue": "'MySQLConnector' object has no attribute 'host'",
     "output_type": "error",
     "traceback": [
      "\u001b[31m---------------------------------------------------------------------------\u001b[39m",
      "\u001b[31mAttributeError\u001b[39m                            Traceback (most recent call last)",
      "\u001b[36mCell\u001b[39m\u001b[36m \u001b[39m\u001b[32mIn[6]\u001b[39m\u001b[32m, line 4\u001b[39m\n\u001b[32m      1\u001b[39m \u001b[38;5;28;01mfrom\u001b[39;00m\u001b[38;5;250m \u001b[39m\u001b[34;01mconnectors\u001b[39;00m\u001b[34;01m.\u001b[39;00m\u001b[34;01mMySQL\u001b[39;00m\u001b[38;5;250m \u001b[39m\u001b[38;5;28;01mimport\u001b[39;00m MySQLConnector\n\u001b[32m      3\u001b[39m conn = MySQLConnector(creds.dict)\n\u001b[32m----> \u001b[39m\u001b[32m4\u001b[39m \u001b[43mconn\u001b[49m\u001b[43m.\u001b[49m\u001b[43mtest_connection\u001b[49m\u001b[43m(\u001b[49m\u001b[43m)\u001b[49m\n",
      "\u001b[36mFile \u001b[39m\u001b[32m/workspaces/the_etl_library/connectors/MySQL.py:14\u001b[39m, in \u001b[36mMySQLConnector.test_connection\u001b[39m\u001b[34m(self)\u001b[39m\n\u001b[32m     11\u001b[39m connection = \u001b[38;5;28;01mNone\u001b[39;00m\n\u001b[32m     12\u001b[39m \u001b[38;5;28;01mtry\u001b[39;00m:\n\u001b[32m     13\u001b[39m     connection = mysql.connector.connect(\n\u001b[32m---> \u001b[39m\u001b[32m14\u001b[39m         host=\u001b[38;5;28;43mself\u001b[39;49m\u001b[43m.\u001b[49m\u001b[43mhost\u001b[49m,\n\u001b[32m     15\u001b[39m         user=\u001b[38;5;28mself\u001b[39m.user,\n\u001b[32m     16\u001b[39m         password=\u001b[38;5;28mself\u001b[39m.password,\n\u001b[32m     17\u001b[39m         database=\u001b[38;5;28mself\u001b[39m.database,\n\u001b[32m     18\u001b[39m         port=\u001b[38;5;28mself\u001b[39m.port\n\u001b[32m     19\u001b[39m     )\n\u001b[32m     20\u001b[39m     \u001b[38;5;28;01mif\u001b[39;00m connection.is_connected():\n\u001b[32m     21\u001b[39m         \u001b[38;5;28mprint\u001b[39m(\u001b[33m\"\u001b[39m\u001b[33mConnection successful\u001b[39m\u001b[33m\"\u001b[39m)\n",
      "\u001b[31mAttributeError\u001b[39m: 'MySQLConnector' object has no attribute 'host'"
     ]
    }
   ],
   "source": [
    "from connectors.MySQL import MySQLConnector\n",
    "\n",
    "conn = MySQLConnector(creds.dict)\n",
    "conn.test_connection()"
   ]
  },
  {
   "cell_type": "code",
   "execution_count": null,
   "id": "a4ac0754",
   "metadata": {},
   "outputs": [],
   "source": [
    "conn.connect()"
   ]
  },
  {
   "cell_type": "code",
   "execution_count": null,
   "id": "99833b19",
   "metadata": {},
   "outputs": [],
   "source": [
    "conn.close()"
   ]
  }
 ],
 "metadata": {
  "kernelspec": {
   "display_name": "Python 3",
   "language": "python",
   "name": "python3"
  },
  "language_info": {
   "codemirror_mode": {
    "name": "ipython",
    "version": 3
   },
   "file_extension": ".py",
   "mimetype": "text/x-python",
   "name": "python",
   "nbconvert_exporter": "python",
   "pygments_lexer": "ipython3",
   "version": "3.12.1"
  }
 },
 "nbformat": 4,
 "nbformat_minor": 5
}
