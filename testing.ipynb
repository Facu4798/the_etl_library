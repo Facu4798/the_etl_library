{
 "cells": [
  {
   "cell_type": "code",
   "execution_count": 5,
   "id": "a009e8c6",
   "metadata": {},
   "outputs": [],
   "source": [
    "\n",
    "creds_dict = {\n",
    "    \"name\":\"facundo\",\n",
    "    \"last_name\":\"mazzola\"\n",
    "}"
   ]
  },
  {
   "cell_type": "code",
   "execution_count": 17,
   "id": "3aec2d13",
   "metadata": {},
   "outputs": [],
   "source": [
    "from authentication import Credentials\n",
    "\n",
    "creds = Credentials(creds_dict)"
   ]
  },
  {
   "cell_type": "code",
   "execution_count": 18,
   "id": "84d93c9d",
   "metadata": {},
   "outputs": [
    {
     "data": {
      "text/plain": [
       "'Credentials:\\nname        = facundo\\nlast_name   = mazzola\\n'"
      ]
     },
     "execution_count": 18,
     "metadata": {},
     "output_type": "execute_result"
    }
   ],
   "source": [
    "creds.show()"
   ]
  },
  {
   "cell_type": "code",
   "execution_count": 5,
   "id": "86dff7ad",
   "metadata": {},
   "outputs": [
    {
     "name": "stdout",
     "output_type": "stream",
     "text": [
      "Missing required parameter: host\n"
     ]
    },
    {
     "data": {
      "text/plain": [
       "''"
      ]
     },
     "execution_count": 5,
     "metadata": {},
     "output_type": "execute_result"
    }
   ],
   "source": [
    "from connectors.MySQL import MySQLConnector\n",
    "\n",
    "conn = MySQLConnector(creds.dict)\n",
    "conn.test_connection()"
   ]
  },
  {
   "cell_type": "code",
   "execution_count": null,
   "id": "a4ac0754",
   "metadata": {},
   "outputs": [],
   "source": [
    "conn.connect()"
   ]
  },
  {
   "cell_type": "code",
   "execution_count": null,
   "id": "99833b19",
   "metadata": {},
   "outputs": [],
   "source": [
    "conn.close()"
   ]
  }
 ],
 "metadata": {
  "kernelspec": {
   "display_name": "base",
   "language": "python",
   "name": "python3"
  },
  "language_info": {
   "codemirror_mode": {
    "name": "ipython",
    "version": 3
   },
   "file_extension": ".py",
   "mimetype": "text/x-python",
   "name": "python",
   "nbconvert_exporter": "python",
   "pygments_lexer": "ipython3",
   "version": "3.12.3"
  }
 },
 "nbformat": 4,
 "nbformat_minor": 5
}
