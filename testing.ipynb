{
 "cells": [
  {
   "cell_type": "code",
   "execution_count": 1,
   "id": "a009e8c6",
   "metadata": {},
   "outputs": [],
   "source": [
    "\n",
    "creds_dict = {\n",
    "    #place credentials here\n",
    "}"
   ]
  },
  {
   "cell_type": "code",
   "execution_count": 2,
   "id": "3aec2d13",
   "metadata": {},
   "outputs": [],
   "source": [
    "from authentication import Credentials\n",
    "\n",
    "creds = Credentials(creds_dict)"
   ]
  },
  {
   "cell_type": "code",
   "execution_count": 3,
   "id": "86dff7ad",
   "metadata": {},
   "outputs": [
    {
     "name": "stdout",
     "output_type": "stream",
     "text": [
      "No credentials found\n",
      "None\n"
     ]
    }
   ],
   "source": [
    "creds.show()"
   ]
  }
 ],
 "metadata": {
  "kernelspec": {
   "display_name": "Python 3",
   "language": "python",
   "name": "python3"
  },
  "language_info": {
   "codemirror_mode": {
    "name": "ipython",
    "version": 3
   },
   "file_extension": ".py",
   "mimetype": "text/x-python",
   "name": "python",
   "nbconvert_exporter": "python",
   "pygments_lexer": "ipython3",
   "version": "3.12.1"
  }
 },
 "nbformat": 4,
 "nbformat_minor": 5
}
