{
 "cells": [
  {
   "cell_type": "code",
   "execution_count": 1,
   "id": "50f24fa9",
   "metadata": {},
   "outputs": [],
   "source": [
    "from activities.enviroment import Env\n",
    "from activities.base import BaseActivity"
   ]
  },
  {
   "cell_type": "code",
   "execution_count": 11,
   "id": "6d2ed400",
   "metadata": {},
   "outputs": [],
   "source": [
    "e = Env()"
   ]
  },
  {
   "cell_type": "code",
   "execution_count": 12,
   "id": "abe732c3",
   "metadata": {},
   "outputs": [
    {
     "ename": "AttributeError",
     "evalue": "'list' object has no attribute 'id'",
     "output_type": "error",
     "traceback": [
      "\u001b[31m---------------------------------------------------------------------------\u001b[39m",
      "\u001b[31mAttributeError\u001b[39m                            Traceback (most recent call last)",
      "\u001b[36mCell\u001b[39m\u001b[36m \u001b[39m\u001b[32mIn[12]\u001b[39m\u001b[32m, line 15\u001b[39m\n\u001b[32m     13\u001b[39m ba1 = BaseActivity(env=e,\u001b[38;5;28mid\u001b[39m=\u001b[33m\"\u001b[39m\u001b[33madd_one\u001b[39m\u001b[33m\"\u001b[39m,function=a1,\u001b[38;5;28minput\u001b[39m=\u001b[32m2\u001b[39m,output_name=\u001b[33m\"\u001b[39m\u001b[33ma2\u001b[39m\u001b[33m\"\u001b[39m)\n\u001b[32m     14\u001b[39m ba2 = BaseActivity(env=e,\u001b[38;5;28mid\u001b[39m=\u001b[33m\"\u001b[39m\u001b[33mmultiply_two\u001b[39m\u001b[33m\"\u001b[39m,function=a2,output_name=\u001b[33m\"\u001b[39m\u001b[33ma1\u001b[39m\u001b[33m\"\u001b[39m)\n\u001b[32m---> \u001b[39m\u001b[32m15\u001b[39m ba3 = \u001b[43mBaseActivity\u001b[49m\u001b[43m(\u001b[49m\u001b[43menv\u001b[49m\u001b[43m=\u001b[49m\u001b[43me\u001b[49m\u001b[43m,\u001b[49m\u001b[38;5;28;43mid\u001b[39;49m\u001b[43m=\u001b[49m\u001b[33;43m\"\u001b[39;49m\u001b[33;43mprint\u001b[39;49m\u001b[33;43m\"\u001b[39;49m\u001b[43m,\u001b[49m\u001b[43mfunction\u001b[49m\u001b[43m=\u001b[49m\u001b[43ma3\u001b[49m\u001b[43m,\u001b[49m\u001b[43mparent\u001b[49m\u001b[43m=\u001b[49m\u001b[43m[\u001b[49m\u001b[43mba1\u001b[49m\u001b[43m,\u001b[49m\u001b[43mba2\u001b[49m\u001b[43m]\u001b[49m\u001b[43m,\u001b[49m\u001b[43moutput_name\u001b[49m\u001b[43m=\u001b[49m\u001b[33;43m\"\u001b[39;49m\u001b[33;43ma\u001b[39;49m\u001b[33;43m\"\u001b[39;49m\u001b[43m)\u001b[49m\n\u001b[32m     17\u001b[39m e.show()\n",
      "\u001b[36mFile \u001b[39m\u001b[32m/workspaces/the_etl_library/activities/base.py:11\u001b[39m, in \u001b[36mBaseActivity.__init__\u001b[39m\u001b[34m(self, env, function, input, id, parent, output_name)\u001b[39m\n\u001b[32m      9\u001b[39m \u001b[38;5;28mself\u001b[39m.parent = parent\n\u001b[32m     10\u001b[39m \u001b[38;5;28mself\u001b[39m.input = \u001b[38;5;28minput\u001b[39m\n\u001b[32m---> \u001b[39m\u001b[32m11\u001b[39m \u001b[38;5;28;43mself\u001b[39;49m\u001b[43m.\u001b[49m\u001b[43menv\u001b[49m\u001b[43m.\u001b[49m\u001b[43m_add_item\u001b[49m\u001b[43m(\u001b[49m\u001b[38;5;28;43mself\u001b[39;49m\u001b[43m,\u001b[49m\u001b[43mparent\u001b[49m\u001b[43m)\u001b[49m\n\u001b[32m     12\u001b[39m \u001b[38;5;28mself\u001b[39m.output = \u001b[38;5;28;01mNone\u001b[39;00m\n\u001b[32m     13\u001b[39m \u001b[38;5;28;01mif\u001b[39;00m output_name == \u001b[38;5;28;01mNone\u001b[39;00m:\n",
      "\u001b[36mFile \u001b[39m\u001b[32m/workspaces/the_etl_library/activities/enviroment.py:57\u001b[39m, in \u001b[36mEnv._add_item\u001b[39m\u001b[34m(self, item, parent)\u001b[39m\n\u001b[32m     55\u001b[39m \u001b[38;5;66;03m# set the parent-item relationship\u001b[39;00m\n\u001b[32m     56\u001b[39m \u001b[38;5;28;01mif\u001b[39;00m parent != \u001b[38;5;28;01mNone\u001b[39;00m:\n\u001b[32m---> \u001b[39m\u001b[32m57\u001b[39m     parent_index = \u001b[38;5;28mself\u001b[39m.items.index(\u001b[43mparent\u001b[49m\u001b[43m.\u001b[49m\u001b[43mid\u001b[49m)\n\u001b[32m     58\u001b[39m     \u001b[38;5;28mself\u001b[39m.matrix[parent_index, -\u001b[32m1\u001b[39m] = \u001b[32m1\u001b[39m\n",
      "\u001b[31mAttributeError\u001b[39m: 'list' object has no attribute 'id'"
     ]
    }
   ],
   "source": [
    "# Activity list\n",
    "def a1(a):\n",
    "    return a + 1\n",
    "\n",
    "def a2(a):\n",
    "    return a * 2\n",
    "\n",
    "def a3(a1,a2):\n",
    "    print(\"process finished\")\n",
    "    print(a1)\n",
    "    print(a2)\n",
    "\n",
    "ba1 = BaseActivity(env=e,id=\"add_one\",function=a1,input=2,output_name=\"a2\")\n",
    "ba2 = BaseActivity(env=e,id=\"multiply_two\",function=a2,output_name=\"a1\")\n",
    "ba3 = BaseActivity(env=e,id=\"print\",function=a3,parent=[ba1,ba2],output_name=\"a\")\n",
    "\n",
    "e.show()"
   ]
  },
  {
   "cell_type": "code",
   "execution_count": 8,
   "id": "b01730d1",
   "metadata": {},
   "outputs": [
    {
     "name": "stdout",
     "output_type": "stream",
     "text": [
      "process finished\n",
      "6\n"
     ]
    }
   ],
   "source": [
    "e.run(2)"
   ]
  }
 ],
 "metadata": {
  "kernelspec": {
   "display_name": "Python 3",
   "language": "python",
   "name": "python3"
  },
  "language_info": {
   "codemirror_mode": {
    "name": "ipython",
    "version": 3
   },
   "file_extension": ".py",
   "mimetype": "text/x-python",
   "name": "python",
   "nbconvert_exporter": "python",
   "pygments_lexer": "ipython3",
   "version": "3.12.1"
  }
 },
 "nbformat": 4,
 "nbformat_minor": 5
}
